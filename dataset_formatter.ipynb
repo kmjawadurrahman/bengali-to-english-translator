{
 "cells": [
  {
   "cell_type": "code",
   "execution_count": 122,
   "metadata": {},
   "outputs": [],
   "source": [
    "import pandas as pd\n",
    "import csv\n",
    "import os"
   ]
  },
  {
   "cell_type": "code",
   "execution_count": 105,
   "metadata": {},
   "outputs": [],
   "source": [
    "dataset_part = \"SUPara0.8M\"\n",
    "output_part = \"train\""
   ]
  },
  {
   "cell_type": "code",
   "execution_count": 106,
   "metadata": {},
   "outputs": [],
   "source": [
    "beng = pd.read_csv(f\".//data//raw//{dataset_part}_bn.txt\", sep='\\t', header=None)"
   ]
  },
  {
   "cell_type": "code",
   "execution_count": 107,
   "metadata": {},
   "outputs": [],
   "source": [
    "beng.columns=['beng']"
   ]
  },
  {
   "cell_type": "code",
   "execution_count": 108,
   "metadata": {},
   "outputs": [
    {
     "data": {
      "text/html": [
       "<div>\n",
       "<style scoped>\n",
       "    .dataframe tbody tr th:only-of-type {\n",
       "        vertical-align: middle;\n",
       "    }\n",
       "\n",
       "    .dataframe tbody tr th {\n",
       "        vertical-align: top;\n",
       "    }\n",
       "\n",
       "    .dataframe thead th {\n",
       "        text-align: right;\n",
       "    }\n",
       "</style>\n",
       "<table border=\"1\" class=\"dataframe\">\n",
       "  <thead>\n",
       "    <tr style=\"text-align: right;\">\n",
       "      <th></th>\n",
       "      <th>beng</th>\n",
       "    </tr>\n",
       "  </thead>\n",
       "  <tbody>\n",
       "    <tr>\n",
       "      <th>0</th>\n",
       "      <td>০০১_০১</td>\n",
       "    </tr>\n",
       "    <tr>\n",
       "      <th>1</th>\n",
       "      <td>০১।</td>\n",
       "    </tr>\n",
       "    <tr>\n",
       "      <th>2</th>\n",
       "      <td>অপরের নিন্দা করিও না।</td>\n",
       "    </tr>\n",
       "    <tr>\n",
       "      <th>3</th>\n",
       "      <td>নিন্দা করা মহা অপরাধ।</td>\n",
       "    </tr>\n",
       "    <tr>\n",
       "      <th>4</th>\n",
       "      <td>বরং আত্মসমালোচনা দ্বারা নিজেকে সংশোধন কর।</td>\n",
       "    </tr>\n",
       "    <tr>\n",
       "      <th>...</th>\n",
       "      <td>...</td>\n",
       "    </tr>\n",
       "    <tr>\n",
       "      <th>70856</th>\n",
       "      <td>শিক্ষক মূল্য হারিয়েছেন টিউটরদের কাছে ।</td>\n",
       "    </tr>\n",
       "    <tr>\n",
       "      <th>70857</th>\n",
       "      <td>শিক্ষার্থীরা সবাই শুরু থেকেই পরীক্ষার্থীতে পরি...</td>\n",
       "    </tr>\n",
       "    <tr>\n",
       "      <th>70858</th>\n",
       "      <td>শিক্ষার অভিযাত্রার এই পরিণতি নিয়ে একটু সিরিয়াস...</td>\n",
       "    </tr>\n",
       "    <tr>\n",
       "      <th>70859</th>\n",
       "      <td>সুপারা কর্পাস এখানে শেষ হয়েছে।</td>\n",
       "    </tr>\n",
       "    <tr>\n",
       "      <th>70860</th>\n",
       "      <td>১০০_১০০_১০০</td>\n",
       "    </tr>\n",
       "  </tbody>\n",
       "</table>\n",
       "<p>70861 rows × 1 columns</p>\n",
       "</div>"
      ],
      "text/plain": [
       "                                                    beng\n",
       "0                                                 ০০১_০১\n",
       "1                                                    ০১।\n",
       "2                                  অপরের নিন্দা করিও না।\n",
       "3                                  নিন্দা করা মহা অপরাধ।\n",
       "4              বরং আত্মসমালোচনা দ্বারা নিজেকে সংশোধন কর।\n",
       "...                                                  ...\n",
       "70856             শিক্ষক মূল্য হারিয়েছেন টিউটরদের কাছে ।\n",
       "70857  শিক্ষার্থীরা সবাই শুরু থেকেই পরীক্ষার্থীতে পরি...\n",
       "70858  শিক্ষার অভিযাত্রার এই পরিণতি নিয়ে একটু সিরিয়াস...\n",
       "70859                     সুপারা কর্পাস এখানে শেষ হয়েছে।\n",
       "70860                                        ১০০_১০০_১০০\n",
       "\n",
       "[70861 rows x 1 columns]"
      ]
     },
     "execution_count": 108,
     "metadata": {},
     "output_type": "execute_result"
    }
   ],
   "source": [
    "beng"
   ]
  },
  {
   "cell_type": "code",
   "execution_count": 109,
   "metadata": {},
   "outputs": [],
   "source": [
    "eng = pd.read_csv(f\".//data//raw//{dataset_part}_en.txt\", sep='\\t', header=None)"
   ]
  },
  {
   "cell_type": "code",
   "execution_count": 110,
   "metadata": {},
   "outputs": [],
   "source": [
    "eng.columns=['eng']"
   ]
  },
  {
   "cell_type": "code",
   "execution_count": 111,
   "metadata": {},
   "outputs": [
    {
     "data": {
      "text/html": [
       "<div>\n",
       "<style scoped>\n",
       "    .dataframe tbody tr th:only-of-type {\n",
       "        vertical-align: middle;\n",
       "    }\n",
       "\n",
       "    .dataframe tbody tr th {\n",
       "        vertical-align: top;\n",
       "    }\n",
       "\n",
       "    .dataframe thead th {\n",
       "        text-align: right;\n",
       "    }\n",
       "</style>\n",
       "<table border=\"1\" class=\"dataframe\">\n",
       "  <thead>\n",
       "    <tr style=\"text-align: right;\">\n",
       "      <th></th>\n",
       "      <th>eng</th>\n",
       "    </tr>\n",
       "  </thead>\n",
       "  <tbody>\n",
       "    <tr>\n",
       "      <th>0</th>\n",
       "      <td>001_01</td>\n",
       "    </tr>\n",
       "    <tr>\n",
       "      <th>1</th>\n",
       "      <td>01.</td>\n",
       "    </tr>\n",
       "    <tr>\n",
       "      <th>2</th>\n",
       "      <td>Don't speak ill of others.</td>\n",
       "    </tr>\n",
       "    <tr>\n",
       "      <th>3</th>\n",
       "      <td>To speak ill of others is a great crime.</td>\n",
       "    </tr>\n",
       "    <tr>\n",
       "      <th>4</th>\n",
       "      <td>Rather rectify yourself through self-criticism.</td>\n",
       "    </tr>\n",
       "    <tr>\n",
       "      <th>...</th>\n",
       "      <td>...</td>\n",
       "    </tr>\n",
       "    <tr>\n",
       "      <th>70023</th>\n",
       "      <td>Teachers have lost their value to the tutors.</td>\n",
       "    </tr>\n",
       "    <tr>\n",
       "      <th>70024</th>\n",
       "      <td>The students become examinees from the beginning.</td>\n",
       "    </tr>\n",
       "    <tr>\n",
       "      <th>70025</th>\n",
       "      <td>Serious thought needs to be given on this cond...</td>\n",
       "    </tr>\n",
       "    <tr>\n",
       "      <th>70026</th>\n",
       "      <td>SUPara corpus ends here.</td>\n",
       "    </tr>\n",
       "    <tr>\n",
       "      <th>70027</th>\n",
       "      <td>100_100_100</td>\n",
       "    </tr>\n",
       "  </tbody>\n",
       "</table>\n",
       "<p>70028 rows × 1 columns</p>\n",
       "</div>"
      ],
      "text/plain": [
       "                                                     eng\n",
       "0                                                 001_01\n",
       "1                                                    01.\n",
       "2                             Don't speak ill of others.\n",
       "3               To speak ill of others is a great crime.\n",
       "4        Rather rectify yourself through self-criticism.\n",
       "...                                                  ...\n",
       "70023      Teachers have lost their value to the tutors.\n",
       "70024  The students become examinees from the beginning.\n",
       "70025  Serious thought needs to be given on this cond...\n",
       "70026                           SUPara corpus ends here.\n",
       "70027                                        100_100_100\n",
       "\n",
       "[70028 rows x 1 columns]"
      ]
     },
     "execution_count": 111,
     "metadata": {},
     "output_type": "execute_result"
    }
   ],
   "source": [
    "eng"
   ]
  },
  {
   "cell_type": "code",
   "execution_count": 112,
   "metadata": {},
   "outputs": [],
   "source": [
    "beng_eng = pd.concat([beng, eng], axis=1)"
   ]
  },
  {
   "cell_type": "code",
   "execution_count": 113,
   "metadata": {},
   "outputs": [],
   "source": [
    "beng_eng['beng_eng'] = beng_eng['beng'] + \"\\t\" + beng_eng['eng']"
   ]
  },
  {
   "cell_type": "code",
   "execution_count": 115,
   "metadata": {},
   "outputs": [
    {
     "data": {
      "text/html": [
       "<div>\n",
       "<style scoped>\n",
       "    .dataframe tbody tr th:only-of-type {\n",
       "        vertical-align: middle;\n",
       "    }\n",
       "\n",
       "    .dataframe tbody tr th {\n",
       "        vertical-align: top;\n",
       "    }\n",
       "\n",
       "    .dataframe thead th {\n",
       "        text-align: right;\n",
       "    }\n",
       "</style>\n",
       "<table border=\"1\" class=\"dataframe\">\n",
       "  <thead>\n",
       "    <tr style=\"text-align: right;\">\n",
       "      <th></th>\n",
       "      <th>beng</th>\n",
       "      <th>eng</th>\n",
       "      <th>beng_eng</th>\n",
       "    </tr>\n",
       "  </thead>\n",
       "  <tbody>\n",
       "    <tr>\n",
       "      <th>0</th>\n",
       "      <td>০০১_০১</td>\n",
       "      <td>001_01</td>\n",
       "      <td>০০১_০১\\t001_01</td>\n",
       "    </tr>\n",
       "    <tr>\n",
       "      <th>1</th>\n",
       "      <td>০১।</td>\n",
       "      <td>01.</td>\n",
       "      <td>০১।\\t01.</td>\n",
       "    </tr>\n",
       "    <tr>\n",
       "      <th>2</th>\n",
       "      <td>অপরের নিন্দা করিও না।</td>\n",
       "      <td>Don't speak ill of others.</td>\n",
       "      <td>অপরের নিন্দা করিও না।\\tDon't speak ill of others.</td>\n",
       "    </tr>\n",
       "    <tr>\n",
       "      <th>3</th>\n",
       "      <td>নিন্দা করা মহা অপরাধ।</td>\n",
       "      <td>To speak ill of others is a great crime.</td>\n",
       "      <td>নিন্দা করা মহা অপরাধ।\\tTo speak ill of others ...</td>\n",
       "    </tr>\n",
       "    <tr>\n",
       "      <th>4</th>\n",
       "      <td>বরং আত্মসমালোচনা দ্বারা নিজেকে সংশোধন কর।</td>\n",
       "      <td>Rather rectify yourself through self-criticism.</td>\n",
       "      <td>বরং আত্মসমালোচনা দ্বারা নিজেকে সংশোধন কর।\\tRat...</td>\n",
       "    </tr>\n",
       "    <tr>\n",
       "      <th>...</th>\n",
       "      <td>...</td>\n",
       "      <td>...</td>\n",
       "      <td>...</td>\n",
       "    </tr>\n",
       "    <tr>\n",
       "      <th>70856</th>\n",
       "      <td>শিক্ষক মূল্য হারিয়েছেন টিউটরদের কাছে ।</td>\n",
       "      <td>NaN</td>\n",
       "      <td>NaN</td>\n",
       "    </tr>\n",
       "    <tr>\n",
       "      <th>70857</th>\n",
       "      <td>শিক্ষার্থীরা সবাই শুরু থেকেই পরীক্ষার্থীতে পরি...</td>\n",
       "      <td>NaN</td>\n",
       "      <td>NaN</td>\n",
       "    </tr>\n",
       "    <tr>\n",
       "      <th>70858</th>\n",
       "      <td>শিক্ষার অভিযাত্রার এই পরিণতি নিয়ে একটু সিরিয়াস...</td>\n",
       "      <td>NaN</td>\n",
       "      <td>NaN</td>\n",
       "    </tr>\n",
       "    <tr>\n",
       "      <th>70859</th>\n",
       "      <td>সুপারা কর্পাস এখানে শেষ হয়েছে।</td>\n",
       "      <td>NaN</td>\n",
       "      <td>NaN</td>\n",
       "    </tr>\n",
       "    <tr>\n",
       "      <th>70860</th>\n",
       "      <td>১০০_১০০_১০০</td>\n",
       "      <td>NaN</td>\n",
       "      <td>NaN</td>\n",
       "    </tr>\n",
       "  </tbody>\n",
       "</table>\n",
       "<p>70861 rows × 3 columns</p>\n",
       "</div>"
      ],
      "text/plain": [
       "                                                    beng  \\\n",
       "0                                                 ০০১_০১   \n",
       "1                                                    ০১।   \n",
       "2                                  অপরের নিন্দা করিও না।   \n",
       "3                                  নিন্দা করা মহা অপরাধ।   \n",
       "4              বরং আত্মসমালোচনা দ্বারা নিজেকে সংশোধন কর।   \n",
       "...                                                  ...   \n",
       "70856             শিক্ষক মূল্য হারিয়েছেন টিউটরদের কাছে ।   \n",
       "70857  শিক্ষার্থীরা সবাই শুরু থেকেই পরীক্ষার্থীতে পরি...   \n",
       "70858  শিক্ষার অভিযাত্রার এই পরিণতি নিয়ে একটু সিরিয়াস...   \n",
       "70859                     সুপারা কর্পাস এখানে শেষ হয়েছে।   \n",
       "70860                                        ১০০_১০০_১০০   \n",
       "\n",
       "                                                   eng  \\\n",
       "0                                               001_01   \n",
       "1                                                  01.   \n",
       "2                           Don't speak ill of others.   \n",
       "3             To speak ill of others is a great crime.   \n",
       "4      Rather rectify yourself through self-criticism.   \n",
       "...                                                ...   \n",
       "70856                                              NaN   \n",
       "70857                                              NaN   \n",
       "70858                                              NaN   \n",
       "70859                                              NaN   \n",
       "70860                                              NaN   \n",
       "\n",
       "                                                beng_eng  \n",
       "0                                         ০০১_০১\\t001_01  \n",
       "1                                               ০১।\\t01.  \n",
       "2      অপরের নিন্দা করিও না।\\tDon't speak ill of others.  \n",
       "3      নিন্দা করা মহা অপরাধ।\\tTo speak ill of others ...  \n",
       "4      বরং আত্মসমালোচনা দ্বারা নিজেকে সংশোধন কর।\\tRat...  \n",
       "...                                                  ...  \n",
       "70856                                                NaN  \n",
       "70857                                                NaN  \n",
       "70858                                                NaN  \n",
       "70859                                                NaN  \n",
       "70860                                                NaN  \n",
       "\n",
       "[70861 rows x 3 columns]"
      ]
     },
     "execution_count": 115,
     "metadata": {},
     "output_type": "execute_result"
    }
   ],
   "source": [
    "beng_eng"
   ]
  },
  {
   "cell_type": "code",
   "execution_count": 114,
   "metadata": {},
   "outputs": [],
   "source": [
    "beng_eng[['beng_eng']].to_csv(f\".//data//data_{output_part}.txt\", header=None, index=None)"
   ]
  },
  {
   "cell_type": "code",
   "execution_count": 125,
   "metadata": {},
   "outputs": [
    {
     "data": {
      "text/plain": [
       "'C:\\\\Users\\\\Jawadur\\\\Desktop\\\\dev\\\\bangla-to-english-translator'"
      ]
     },
     "execution_count": 125,
     "metadata": {},
     "output_type": "execute_result"
    }
   ],
   "source": [
    "os.getcwd()"
   ]
  },
  {
   "cell_type": "code",
   "execution_count": 126,
   "metadata": {},
   "outputs": [
    {
     "name": "stdout",
     "output_type": "stream",
     "text": [
      "Num GPUs Available:  1\n"
     ]
    }
   ],
   "source": [
    "import tensorflow as tf\n",
    "print(\"Num GPUs Available: \", len(tf.config.experimental.list_physical_devices('GPU')))"
   ]
  },
  {
   "cell_type": "code",
   "execution_count": null,
   "metadata": {},
   "outputs": [],
   "source": []
  }
 ],
 "metadata": {
  "kernelspec": {
   "display_name": "Python 3",
   "language": "python",
   "name": "python3"
  },
  "language_info": {
   "codemirror_mode": {
    "name": "ipython",
    "version": 3
   },
   "file_extension": ".py",
   "mimetype": "text/x-python",
   "name": "python",
   "nbconvert_exporter": "python",
   "pygments_lexer": "ipython3",
   "version": "3.8.7"
  }
 },
 "nbformat": 4,
 "nbformat_minor": 4
}
